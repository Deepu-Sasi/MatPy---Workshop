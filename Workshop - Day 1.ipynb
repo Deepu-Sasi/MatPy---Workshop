{
 "cells": [
  {
   "cell_type": "code",
   "execution_count": 11,
   "id": "a83e6d19",
   "metadata": {},
   "outputs": [
    {
     "name": "stdout",
     "output_type": "stream",
     "text": [
      "<class 'numpy.ndarray'>\n"
     ]
    }
   ],
   "source": [
    "#one dimension\n",
    "#decrease the number of lines of codes\n",
    "import numpy as np\n",
    "print(type(np.array([1,2,3,4,5])))"
   ]
  },
  {
   "cell_type": "code",
   "execution_count": 12,
   "id": "d1177dd4",
   "metadata": {},
   "outputs": [
    {
     "name": "stdout",
     "output_type": "stream",
     "text": [
      "[[1 2 3]\n",
      " [4 5 6]\n",
      " [7 8 9]]\n"
     ]
    }
   ],
   "source": [
    "print(np.array([[1,2,3],[4,5,6],[7,8,9]]))"
   ]
  },
  {
   "cell_type": "code",
   "execution_count": 15,
   "id": "c7e873f7",
   "metadata": {},
   "outputs": [
    {
     "name": "stdout",
     "output_type": "stream",
     "text": [
      "[[[1 2 3]\n",
      "  [4 5 6]]\n",
      "\n",
      " [[1 2 3]\n",
      "  [4 5 6]]]\n"
     ]
    }
   ],
   "source": [
    "#3 dimension\n",
    "print(np.array([[[1,2,3],[4,5,6]],[[1,2,3],[4,5,6]]]))"
   ]
  },
  {
   "cell_type": "code",
   "execution_count": 18,
   "id": "64292e5f",
   "metadata": {},
   "outputs": [
    {
     "name": "stdout",
     "output_type": "stream",
     "text": [
      "3\n",
      "2\n"
     ]
    }
   ],
   "source": [
    "#check how many dimensions in an array\n",
    "a=np.array([[[1,2,3],[4,5,6]],[[1,2,3],[4,5,6]]])\n",
    "b=np.array([[1,2,3],[4,5,6],[7,8,9]])\n",
    "print(a.ndim)\n",
    "print(b.ndim)"
   ]
  },
  {
   "cell_type": "code",
   "execution_count": 23,
   "id": "b6b69e1a",
   "metadata": {},
   "outputs": [
    {
     "name": "stdout",
     "output_type": "stream",
     "text": [
      "[[1 2 3]\n",
      " [4 5 6]]\n",
      "[[1 2 3]\n",
      " [4 5 6]]\n"
     ]
    }
   ],
   "source": [
    "#access array elements\n",
    "print(a[0])\n",
    "print(a[1])"
   ]
  },
  {
   "cell_type": "code",
   "execution_count": 27,
   "id": "99ca33e4",
   "metadata": {},
   "outputs": [
    {
     "name": "stdout",
     "output_type": "stream",
     "text": [
      "The 2nd element on the first row: 6\n",
      "8\n"
     ]
    }
   ],
   "source": [
    "#to print the specific element in an 2D array\n",
    "print(\"The 2nd element on the first row:\",b[1,2])\n",
    "r=np.array([[1,2,3,4,5],[6,7,8,9,10]])\n",
    "print(r[1,2])"
   ]
  },
  {
   "cell_type": "code",
   "execution_count": 30,
   "id": "299752fe",
   "metadata": {},
   "outputs": [
    {
     "name": "stdout",
     "output_type": "stream",
     "text": [
      "9\n"
     ]
    }
   ],
   "source": [
    "#to access the elements in a 3D array\n",
    "p=np.array([[[1,2,3],[4,5,6]],[[7,8,9],[10,11,12]]])\n",
    "#p(first outer bracket, 2nd outr brkt, 3rd inner brkt)\n",
    "print(p[1,0,2])\n"
   ]
  },
  {
   "cell_type": "code",
   "execution_count": 31,
   "id": "3f076d3f",
   "metadata": {},
   "outputs": [
    {
     "name": "stdout",
     "output_type": "stream",
     "text": [
      "int32\n"
     ]
    }
   ],
   "source": [
    "#data types in numpy\n",
    "#i=integer\n",
    "#b=boolean\n",
    "#u=unsigned integer\n",
    "print(a.dtype)"
   ]
  },
  {
   "cell_type": "code",
   "execution_count": 32,
   "id": "e8732820",
   "metadata": {},
   "outputs": [
    {
     "name": "stdout",
     "output_type": "stream",
     "text": [
      "[1 2 3 4 5]\n",
      "int32\n"
     ]
    }
   ],
   "source": [
    "#create an array with data type integer\n",
    "import numpy as np\n",
    "e=np.array([1,2,3,4,5], dtype='i')\n",
    "print(e)\n",
    "print(e.dtype)"
   ]
  },
  {
   "cell_type": "code",
   "execution_count": 45,
   "id": "30aae944",
   "metadata": {},
   "outputs": [
    {
     "name": "stdout",
     "output_type": "stream",
     "text": [
      "[1 2 3 4 5]\n",
      "int32\n"
     ]
    }
   ],
   "source": [
    "#create an array with data type 4bytes integer\n",
    "import numpy as np\n",
    "o=np.array([1,2,3,4,5], dtype='i4')\n",
    "print(o)\n",
    "print(o.dtype)"
   ]
  },
  {
   "cell_type": "code",
   "execution_count": 36,
   "id": "d99a1577",
   "metadata": {},
   "outputs": [
    {
     "name": "stdout",
     "output_type": "stream",
     "text": [
      "[2 3 4 5]\n",
      "[2 3 4 5 6 7 8 9]\n"
     ]
    }
   ],
   "source": [
    "#slicing array [start:end]\n",
    "import numpy as np\n",
    "k=np.array([1,2,3,4,5,6,7,8,9])\n",
    "print(k[1:5])\n",
    "print(k[1:])"
   ]
  },
  {
   "cell_type": "code",
   "execution_count": 40,
   "id": "a3bd5c02",
   "metadata": {},
   "outputs": [
    {
     "name": "stdout",
     "output_type": "stream",
     "text": [
      "[7 8 9]\n"
     ]
    }
   ],
   "source": [
    "#slicing 2D array\n",
    "import numpy as np\n",
    "j=np.array([[1,2,3,4,5],[6,7,8,9,10]])\n",
    "print(j[1,1:4])"
   ]
  },
  {
   "cell_type": "code",
   "execution_count": 47,
   "id": "27254b72",
   "metadata": {},
   "outputs": [
    {
     "name": "stdout",
     "output_type": "stream",
     "text": [
      "original array: [42  2  3  4  5  6  7  8  9]\n",
      "Copy array: [1 2 3 4 5 6 7 8 9]\n"
     ]
    }
   ],
   "source": [
    "#make a copy, display the original array and display both\n",
    "import numpy as np\n",
    "arr=np.array([1,2,3,4,5,6,7,8,9])\n",
    "x=arr.copy()\n",
    "arr[0]=42\n",
    "print(\"original array:\",arr)\n",
    "print(\"Copy array:\",x)"
   ]
  },
  {
   "cell_type": "code",
   "execution_count": 49,
   "id": "826d7b5d",
   "metadata": {},
   "outputs": [
    {
     "name": "stdout",
     "output_type": "stream",
     "text": [
      "original array: [42  2  3  4  5  6  7  8  9]\n",
      "Copy array: [42  2  3  4  5  6  7  8  9]\n"
     ]
    }
   ],
   "source": [
    "#if we use view(), the change in the original array reflect on copy\n",
    "import numpy as np\n",
    "arr=np.array([1,2,3,4,5,6,7,8,9])\n",
    "x=arr.view()\n",
    "arr[0]=42\n",
    "print(\"original array:\",arr)\n",
    "print(\"Copy array:\",x)"
   ]
  },
  {
   "cell_type": "code",
   "execution_count": 53,
   "id": "147ef913",
   "metadata": {},
   "outputs": [
    {
     "name": "stdout",
     "output_type": "stream",
     "text": [
      "(3, 3)\n"
     ]
    }
   ],
   "source": [
    "#shape of array\n",
    "import numpy as np\n",
    "w=np.array([[1,2,3],[4,5,6],[7,8,9]])\n",
    "print(w.shape)"
   ]
  },
  {
   "cell_type": "code",
   "execution_count": 60,
   "id": "cfb1c37b",
   "metadata": {},
   "outputs": [
    {
     "name": "stdout",
     "output_type": "stream",
     "text": [
      "2\n",
      "[[ 1  2  3]\n",
      " [ 4  5  6]\n",
      " [ 7  8  9]\n",
      " [10 11 12]]\n"
     ]
    }
   ],
   "source": [
    "#reshaping array\n",
    "import numpy as np\n",
    "q=np.array([1,2,3,4,5,6,7,8,9,10,11,12])\n",
    "newa=q.reshape(4,3)\n",
    "print(newa.ndim)\n",
    "print(newa)"
   ]
  },
  {
   "cell_type": "code",
   "execution_count": 63,
   "id": "ba5cab23",
   "metadata": {},
   "outputs": [
    {
     "name": "stdout",
     "output_type": "stream",
     "text": [
      "[1 2 3 4 5 6]\n"
     ]
    }
   ],
   "source": [
    "#flattering array\n",
    "import numpy as np\n",
    "arr=np.array([[1,2,3],[4,5,6]])\n",
    "newarr=arr.reshape(-1)\n",
    "print(newarr)"
   ]
  },
  {
   "cell_type": "code",
   "execution_count": 64,
   "id": "817c43b7",
   "metadata": {},
   "outputs": [
    {
     "name": "stdout",
     "output_type": "stream",
     "text": [
      "1\n",
      "2\n",
      "3\n",
      "4\n",
      "5\n",
      "6\n",
      "7\n",
      "8\n",
      "9\n"
     ]
    }
   ],
   "source": [
    "#iterating array\n",
    "import numpy as np\n",
    "s=np.array([1,2,3,4,5,6,7,8,9])\n",
    "for i in s:\n",
    "    print(i)"
   ]
  },
  {
   "cell_type": "code",
   "execution_count": 66,
   "id": "12aa207a",
   "metadata": {},
   "outputs": [
    {
     "name": "stdout",
     "output_type": "stream",
     "text": [
      "1\n",
      "2\n",
      "3\n",
      "4\n",
      "5\n",
      "6\n",
      "7\n",
      "8\n",
      "9\n"
     ]
    }
   ],
   "source": [
    "#accessing elements of a 2D matrix \n",
    "import numpy as np\n",
    "w=np.array([[1,2,3],[4,5,6],[7,8,9]])\n",
    "for i in w:\n",
    "    for j in i:\n",
    "        print(j)"
   ]
  },
  {
   "cell_type": "code",
   "execution_count": 68,
   "id": "d7173da8",
   "metadata": {},
   "outputs": [
    {
     "name": "stdout",
     "output_type": "stream",
     "text": [
      "1\n",
      "2\n",
      "3\n",
      "4\n",
      "5\n",
      "6\n",
      "7\n",
      "8\n",
      "9\n",
      "10\n",
      "11\n",
      "12\n"
     ]
    }
   ],
   "source": [
    "#accessing elements of 3D array\n",
    "import numpy as np\n",
    "a=np.array([[[1,2,3],[4,5,6]],[[7,8,9],[10,11,12]]])\n",
    "for i in a:\n",
    "    for j in i:\n",
    "        for t in j:\n",
    "            print(t)"
   ]
  },
  {
   "cell_type": "code",
   "execution_count": 10,
   "id": "d3689ab0",
   "metadata": {},
   "outputs": [
    {
     "name": "stdout",
     "output_type": "stream",
     "text": [
      "[1 2 3 4 5 6 7 8 9]\n"
     ]
    }
   ],
   "source": [
    "#concatenate arrays \n",
    "import numpy as np\n",
    "a=np.array([1,2,3])\n",
    "b=np.array([4,5,6])\n",
    "c=np.array([7,8,9])\n",
    "v=np.concatenate((a,b,c))\n",
    "print(v)"
   ]
  },
  {
   "cell_type": "code",
   "execution_count": 18,
   "id": "55edb6e1",
   "metadata": {},
   "outputs": [
    {
     "name": "stdout",
     "output_type": "stream",
     "text": [
      "[[1 2 3 4 1 2 3 4]\n",
      " [5 6 7 8 5 6 7 8]]\n"
     ]
    }
   ],
   "source": [
    "#join two 2D arrays along rows (axis=1)\n",
    "import numpy as np\n",
    "a=np.array([[1,2,3,4],[5,6,7,8]])\n",
    "b=np.array([[1,2,3,4],[5,6,7,8]])\n",
    "array=np.concatenate((a,b),axis=1)\n",
    "print(array)"
   ]
  },
  {
   "cell_type": "code",
   "execution_count": 7,
   "id": "c60758e3",
   "metadata": {},
   "outputs": [
    {
     "name": "stdout",
     "output_type": "stream",
     "text": [
      "(array([3, 4], dtype=int64),)\n"
     ]
    }
   ],
   "source": [
    "s#searching array finding indexs\n",
    "import numpy as np\n",
    "arr=np.array([1,2,3,4,4,5,5])\n",
    "x=np.where(arr==4)\n",
    "print(x)"
   ]
  },
  {
   "cell_type": "code",
   "execution_count": 8,
   "id": "1a5903da",
   "metadata": {},
   "outputs": [
    {
     "name": "stdout",
     "output_type": "stream",
     "text": [
      "1\n"
     ]
    }
   ],
   "source": [
    "#search sort\n",
    "import numpy as np\n",
    "arr=np.array([6,7,8,9])\n",
    "x=np.searchsorted(arr, 7)\n",
    "print(x)"
   ]
  },
  {
   "cell_type": "code",
   "execution_count": 9,
   "id": "dc7b3544",
   "metadata": {},
   "outputs": [
    {
     "name": "stdout",
     "output_type": "stream",
     "text": [
      "2\n"
     ]
    }
   ],
   "source": [
    "#search sort\n",
    "import numpy as np\n",
    "arr=np.array([6,7,8,9])\n",
    "x=np.searchsorted(arr, 7, side='right')\n",
    "print(x)"
   ]
  },
  {
   "cell_type": "code",
   "execution_count": 19,
   "id": "7fe53baf",
   "metadata": {},
   "outputs": [
    {
     "name": "stdout",
     "output_type": "stream",
     "text": [
      "[ 4  5  6  9 36]\n"
     ]
    }
   ],
   "source": [
    "#sorting array\n",
    "import numpy as np\n",
    "a=np.array([9,5,36,4,6])\n",
    "print(np.sort(a))"
   ]
  },
  {
   "cell_type": "code",
   "execution_count": 20,
   "id": "b7f30488",
   "metadata": {},
   "outputs": [
    {
     "name": "stdout",
     "output_type": "stream",
     "text": [
      "['Apple' 'cat' 'dog']\n"
     ]
    }
   ],
   "source": [
    "import numpy as np\n",
    "g=['Apple', 'dog','cat']\n",
    "print(np.sort(g))"
   ]
  },
  {
   "cell_type": "code",
   "execution_count": 21,
   "id": "c38742d3",
   "metadata": {},
   "outputs": [
    {
     "name": "stdout",
     "output_type": "stream",
     "text": [
      "[[ 1  5 26]\n",
      " [ 0 12 89]]\n"
     ]
    }
   ],
   "source": [
    "#sorting 2D array\n",
    "import numpy as np\n",
    "arr=np.array([[1,26,5],[89,0,12]])\n",
    "print(np.sort(arr))"
   ]
  },
  {
   "cell_type": "code",
   "execution_count": 26,
   "id": "06308dc8",
   "metadata": {},
   "outputs": [
    {
     "name": "stdout",
     "output_type": "stream",
     "text": [
      "8\n"
     ]
    }
   ],
   "source": [
    "#generate random number\n",
    "from numpy import random\n",
    "a= random.randint(100)\n",
    "print(a)"
   ]
  },
  {
   "cell_type": "code",
   "execution_count": 27,
   "id": "79319c59",
   "metadata": {},
   "outputs": [
    {
     "name": "stdout",
     "output_type": "stream",
     "text": [
      "[82 73 99 23 42]\n"
     ]
    }
   ],
   "source": [
    "from numpy import random\n",
    "x=random.randint(100, size=(5))\n",
    "print(x)"
   ]
  },
  {
   "cell_type": "code",
   "execution_count": 28,
   "id": "29c3c2cd",
   "metadata": {},
   "outputs": [
    {
     "name": "stdout",
     "output_type": "stream",
     "text": [
      "[[39 98  9 40 65]\n",
      " [98 70 79 41 60]\n",
      " [43  9 25 81 46]]\n"
     ]
    }
   ],
   "source": [
    "from numpy import random\n",
    "x=random.randint(100, size=(3,5))\n",
    "print(x)"
   ]
  },
  {
   "cell_type": "code",
   "execution_count": 30,
   "id": "633a954c",
   "metadata": {},
   "outputs": [
    {
     "name": "stdout",
     "output_type": "stream",
     "text": [
      "[7 7 7 7 7 7 5 7 7 7 5 3 5 5 5 7 5 7 7 7 5 5 5 5 7 5 5 7 7 3 7 5 3 7 7 7 7\n",
      " 7 5 5 7 7 7 5 7 7 7 7 7 7 5 7 5 7 7 5 7 5 5 5 7 5 5 7 7 7 5 7 7 5 5 7 7 7\n",
      " 7 5 3 7 7 7 3 7 7 7 7 7 7 7 7 5 7 7 5 7 5 7 7 5 7 7]\n"
     ]
    }
   ],
   "source": [
    "from numpy import random\n",
    "x=random.choice([3,5,7,9],p=[0.1,0.3,0.6,0.0],size=(100))\n",
    "print(x)"
   ]
  },
  {
   "cell_type": "code",
   "execution_count": null,
   "id": "6d873461",
   "metadata": {},
   "outputs": [],
   "source": []
  }
 ],
 "metadata": {
  "kernelspec": {
   "display_name": "Python 3 (ipykernel)",
   "language": "python",
   "name": "python3"
  },
  "language_info": {
   "codemirror_mode": {
    "name": "ipython",
    "version": 3
   },
   "file_extension": ".py",
   "mimetype": "text/x-python",
   "name": "python",
   "nbconvert_exporter": "python",
   "pygments_lexer": "ipython3",
   "version": "3.9.12"
  }
 },
 "nbformat": 4,
 "nbformat_minor": 5
}
